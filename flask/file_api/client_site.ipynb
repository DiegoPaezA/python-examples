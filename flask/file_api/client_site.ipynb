{
 "cells": [
  {
   "attachments": {},
   "cell_type": "markdown",
   "metadata": {},
   "source": [
    "# Client Site\n",
    "\n",
    "A API deve ser capaz de:\n",
    "\n",
    "1. Requisição para criar um arquivo txt;\n",
    "2. Requisição para ler um arquivo txt;\n",
    "3. Requisição para atualizar um arquivo txt;"
   ]
  },
  {
   "cell_type": "code",
   "execution_count": 2,
   "metadata": {},
   "outputs": [
    {
     "name": "stdout",
     "output_type": "stream",
     "text": [
      "Hello, This is the first Task: Create an API with Flask\n"
     ]
    }
   ],
   "source": [
    "import requests, json\n",
    "url = \"http://127.0.0.1:5000/\"\n",
    "response = requests.get(url=url)\n",
    "print(response.text)"
   ]
  },
  {
   "attachments": {},
   "cell_type": "markdown",
   "metadata": {},
   "source": [
    "## 1. Requisição para criar um arquivo txt;"
   ]
  },
  {
   "cell_type": "code",
   "execution_count": 24,
   "metadata": {},
   "outputs": [
    {
     "name": "stdout",
     "output_type": "stream",
     "text": [
      "{\n",
      "  \"Mensagem\": \"Arquivo ja existe, por favor escolha outro nome\",\n",
      "  \"Arquivos\": [\n",
      "    \"file1.txt\",\n",
      "    \"file2.txt\"\n",
      "  ]\n",
      "}\n"
     ]
    }
   ],
   "source": [
    "url = \"http://127.0.0.1:5000/create_file\"\n",
    "header = {\"Content-Type\": \"application/json\"}\n",
    "payload = {\"file_name\": \"file2.txt\"}\n",
    "\n",
    "post_response = requests.post(url=url, json=payload, headers=header)\n",
    "response_str = json.dumps(post_response.json(), indent=2)\n",
    "print(response_str)"
   ]
  },
  {
   "attachments": {},
   "cell_type": "markdown",
   "metadata": {},
   "source": [
    "## 2. Requisição para ler um arquivo txt;"
   ]
  },
  {
   "cell_type": "code",
   "execution_count": 27,
   "metadata": {},
   "outputs": [
    {
     "name": "stdout",
     "output_type": "stream",
     "text": [
      "{\n",
      "  \"Mensagem\": \"Leitura do Arquivo\",\n",
      "  \"Data\": [\n",
      "    \"O Arquivo criado foi file2.txt\"\n",
      "  ]\n",
      "}\n"
     ]
    }
   ],
   "source": [
    "url = \"http://127.0.0.1:5000/read_file\"\n",
    "header = {\"Content-Type\": \"application/json\"}\n",
    "payload = {\"file_name\": \"file2.txt\"}\n",
    "\n",
    "post_response = requests.post(url=url, json=payload, headers=header)\n",
    "response_str = json.dumps(post_response.json(), indent=2)\n",
    "print(response_str)"
   ]
  },
  {
   "attachments": {},
   "cell_type": "markdown",
   "metadata": {},
   "source": [
    "## 3. Requisição para atualizar um arquivo txt"
   ]
  },
  {
   "cell_type": "code",
   "execution_count": 33,
   "metadata": {},
   "outputs": [
    {
     "name": "stdout",
     "output_type": "stream",
     "text": [
      "{\n",
      "  \"Mensagem\": \"Arquivo nao existe, por favor escolha outro nome\",\n",
      "  \"Arquivos\": [\n",
      "    \"file1.txt\",\n",
      "    \"file2.txt\"\n",
      "  ]\n",
      "}\n"
     ]
    }
   ],
   "source": [
    "url = \"http://127.0.0.1:5000/update_file\"\n",
    "header = {\"Content-Type\": \"application/json\"}\n",
    "payload = {\"file_name\": \"file3.txt\", \"message\": \"\\n Hello World\"}\n",
    "\n",
    "post_response = requests.post(url=url, json=payload, headers=header)\n",
    "response_str = json.dumps(post_response.json(), indent=2)\n",
    "print(response_str)"
   ]
  }
 ],
 "metadata": {
  "kernelspec": {
   "display_name": "uldev",
   "language": "python",
   "name": "python3"
  },
  "language_info": {
   "codemirror_mode": {
    "name": "ipython",
    "version": 3
   },
   "file_extension": ".py",
   "mimetype": "text/x-python",
   "name": "python",
   "nbconvert_exporter": "python",
   "pygments_lexer": "ipython3",
   "version": "3.10.9"
  },
  "orig_nbformat": 4
 },
 "nbformat": 4,
 "nbformat_minor": 2
}
