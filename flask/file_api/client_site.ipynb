{
 "cells": [
  {
   "attachments": {},
   "cell_type": "markdown",
   "metadata": {},
   "source": [
    "# Client Site\n",
    "\n",
    "A API deve ser capaz de:\n",
    "\n",
    "1. Requisição para criar um arquivo txt;\n",
    "2. Requisição para ler um arquivo txt;\n",
    "3. Requisição para atualizar um arquivo txt;"
   ]
  },
  {
   "attachments": {},
   "cell_type": "markdown",
   "metadata": {},
   "source": [
    "## 1. Requisição para criar um arquivo txt;"
   ]
  },
  {
   "cell_type": "code",
   "execution_count": 1,
   "metadata": {},
   "outputs": [],
   "source": [
    "import requests\n",
    "import json\n",
    "import pandas as pd\n",
    "from dummy_data import films"
   ]
  },
  {
   "cell_type": "code",
   "execution_count": 2,
   "metadata": {},
   "outputs": [
    {
     "name": "stdout",
     "output_type": "stream",
     "text": [
      "{\n",
      "  \"Mensagem\": \"Lista de Arquivos Criados\",\n",
      "  \"Arquivos\": [\n",
      "    \"data1.csv\"\n",
      "  ]\n",
      "}\n"
     ]
    }
   ],
   "source": [
    "url = \"http://127.0.0.1:5000/create_file\"\n",
    "payload = {\"file_name\": \"data1.csv\"}\n",
    "\n",
    "post_response = requests.post(url=url, json=payload)\n",
    "response_str = json.dumps(post_response.json(), indent=2)\n",
    "print(response_str)"
   ]
  },
  {
   "attachments": {},
   "cell_type": "markdown",
   "metadata": {},
   "source": [
    "## 2. Requisição para ler um arquivo txt;"
   ]
  },
  {
   "cell_type": "code",
   "execution_count": 3,
   "metadata": {},
   "outputs": [
    {
     "name": "stdout",
     "output_type": "stream",
     "text": [
      "{\n",
      "  \"Mensagem\": \"Leitura do Arquivo\",\n",
      "  \"Data\": []\n",
      "}\n"
     ]
    }
   ],
   "source": [
    "url = \"http://127.0.0.1:5000/read_file\"\n",
    "payload = {\"file_name\": \"data1.csv\"}\n",
    "\n",
    "post_response = requests.post(url=url, json=payload)\n",
    "response_str = json.dumps(post_response.json(), indent=2)\n",
    "print(response_str)"
   ]
  },
  {
   "attachments": {},
   "cell_type": "markdown",
   "metadata": {},
   "source": [
    "## 3. Requisição para atualizar um arquivo\n",
    "\n",
    "Neste exemplo o arquivo .csv criado e atualizado utilizando dados de filmes do [IMDB](https://www.imdb.com/interfaces/)."
   ]
  },
  {
   "cell_type": "code",
   "execution_count": 4,
   "metadata": {},
   "outputs": [
    {
     "name": "stdout",
     "output_type": "stream",
     "text": [
      "{\n",
      "  \"Mensagem\": \"Arquivo Atualizado\",\n",
      "  \"Data\": \"Arquivo CSV prenchido\"\n",
      "}\n"
     ]
    }
   ],
   "source": [
    "url = \"http://127.0.0.1:5000/update_file\"\n",
    "payload = {\"file_name\": \"data1.csv\", \"message\": films, \"mode\": \"w\"}\n",
    "post_response = requests.post(url=url, json=payload)\n",
    "response_str = json.dumps(post_response.json(), indent=2)\n",
    "print(response_str)"
   ]
  },
  {
   "cell_type": "code",
   "execution_count": 5,
   "metadata": {},
   "outputs": [
    {
     "data": {
      "text/html": [
       "<div>\n",
       "<style scoped>\n",
       "    .dataframe tbody tr th:only-of-type {\n",
       "        vertical-align: middle;\n",
       "    }\n",
       "\n",
       "    .dataframe tbody tr th {\n",
       "        vertical-align: top;\n",
       "    }\n",
       "\n",
       "    .dataframe thead th {\n",
       "        text-align: right;\n",
       "    }\n",
       "</style>\n",
       "<table border=\"1\" class=\"dataframe\">\n",
       "  <thead>\n",
       "    <tr style=\"text-align: right;\">\n",
       "      <th></th>\n",
       "      <th>Name</th>\n",
       "      <th>Rating</th>\n",
       "      <th>Duration</th>\n",
       "      <th>Actor</th>\n",
       "      <th>Genre</th>\n",
       "    </tr>\n",
       "  </thead>\n",
       "  <tbody>\n",
       "    <tr>\n",
       "      <th>0</th>\n",
       "      <td>Inception</td>\n",
       "      <td>8.8</td>\n",
       "      <td>148</td>\n",
       "      <td>Leonardo DiCaprio</td>\n",
       "      <td>Sci-Fi</td>\n",
       "    </tr>\n",
       "    <tr>\n",
       "      <th>1</th>\n",
       "      <td>In time</td>\n",
       "      <td>6.7</td>\n",
       "      <td>109</td>\n",
       "      <td>Justin Timberlake</td>\n",
       "      <td>Sci-Fi</td>\n",
       "    </tr>\n",
       "    <tr>\n",
       "      <th>2</th>\n",
       "      <td>The Intouchables</td>\n",
       "      <td>8.5</td>\n",
       "      <td>112</td>\n",
       "      <td>Omar Sy</td>\n",
       "      <td>Comedy</td>\n",
       "    </tr>\n",
       "    <tr>\n",
       "      <th>3</th>\n",
       "      <td>Source Code</td>\n",
       "      <td>7.5</td>\n",
       "      <td>93</td>\n",
       "      <td>Jake Gyllenhaal</td>\n",
       "      <td>Sci-Fi</td>\n",
       "    </tr>\n",
       "    <tr>\n",
       "      <th>4</th>\n",
       "      <td>Avatar</td>\n",
       "      <td>7.8</td>\n",
       "      <td>213</td>\n",
       "      <td>Zoe Saldana</td>\n",
       "      <td>Adventure</td>\n",
       "    </tr>\n",
       "  </tbody>\n",
       "</table>\n",
       "</div>"
      ],
      "text/plain": [
       "               Name  Rating  Duration              Actor      Genre\n",
       "0         Inception     8.8       148  Leonardo DiCaprio     Sci-Fi\n",
       "1           In time     6.7       109  Justin Timberlake     Sci-Fi\n",
       "2  The Intouchables     8.5       112            Omar Sy     Comedy\n",
       "3       Source Code     7.5        93    Jake Gyllenhaal     Sci-Fi\n",
       "4            Avatar     7.8       213        Zoe Saldana  Adventure"
      ]
     },
     "execution_count": 5,
     "metadata": {},
     "output_type": "execute_result"
    }
   ],
   "source": [
    "data_file = pd.read_csv(\"files/data1.csv\")\n",
    "data_file.head()"
   ]
  },
  {
   "attachments": {},
   "cell_type": "markdown",
   "metadata": {},
   "source": [
    "### 3.1 Adicionar um novo filme ao arquivo csv"
   ]
  },
  {
   "cell_type": "code",
   "execution_count": null,
   "metadata": {},
   "outputs": [],
   "source": [
    "new_films = {\n",
    "    \"Name\": [\"The Matrix\", \"The Matrix Reloaded\", \"The Matrix Revolutions\"], \n",
    "    \"Rating\": [8.7, 7.2, 6.7], \n",
    "    \"Duration\":[136, 138, 129], \n",
    "    \"Actor\": [\"Keanu Reeves\", \"Keanu Reeves\", \"Keanu Reeves\"], \n",
    "    \"Genre\": [\"Action\", \"Action\", \"Action\"]\n",
    "    }"
   ]
  },
  {
   "cell_type": "code",
   "execution_count": 6,
   "metadata": {},
   "outputs": [
    {
     "name": "stdout",
     "output_type": "stream",
     "text": [
      "{\n",
      "  \"Mensagem\": \"Arquivo Atualizado\",\n",
      "  \"Data\": \"Arquivo CSV atualizado\"\n",
      "}\n"
     ]
    }
   ],
   "source": [
    "url = \"http://127.0.0.1:5000/update_file\"\n",
    "payload = {\"file_name\": \"data1.csv\", \"message\": new_films, \"mode\": \"a\"}\n",
    "post_response = requests.post(url=url, json=payload)\n",
    "response_str = json.dumps(post_response.json(), indent=2)\n",
    "print(response_str)"
   ]
  },
  {
   "cell_type": "code",
   "execution_count": 7,
   "metadata": {},
   "outputs": [
    {
     "data": {
      "text/html": [
       "<div>\n",
       "<style scoped>\n",
       "    .dataframe tbody tr th:only-of-type {\n",
       "        vertical-align: middle;\n",
       "    }\n",
       "\n",
       "    .dataframe tbody tr th {\n",
       "        vertical-align: top;\n",
       "    }\n",
       "\n",
       "    .dataframe thead th {\n",
       "        text-align: right;\n",
       "    }\n",
       "</style>\n",
       "<table border=\"1\" class=\"dataframe\">\n",
       "  <thead>\n",
       "    <tr style=\"text-align: right;\">\n",
       "      <th></th>\n",
       "      <th>Name</th>\n",
       "      <th>Rating</th>\n",
       "      <th>Duration</th>\n",
       "      <th>Actor</th>\n",
       "      <th>Genre</th>\n",
       "    </tr>\n",
       "  </thead>\n",
       "  <tbody>\n",
       "    <tr>\n",
       "      <th>0</th>\n",
       "      <td>Inception</td>\n",
       "      <td>8.8</td>\n",
       "      <td>148</td>\n",
       "      <td>Leonardo DiCaprio</td>\n",
       "      <td>Sci-Fi</td>\n",
       "    </tr>\n",
       "    <tr>\n",
       "      <th>1</th>\n",
       "      <td>In time</td>\n",
       "      <td>6.7</td>\n",
       "      <td>109</td>\n",
       "      <td>Justin Timberlake</td>\n",
       "      <td>Sci-Fi</td>\n",
       "    </tr>\n",
       "    <tr>\n",
       "      <th>2</th>\n",
       "      <td>The Intouchables</td>\n",
       "      <td>8.5</td>\n",
       "      <td>112</td>\n",
       "      <td>Omar Sy</td>\n",
       "      <td>Comedy</td>\n",
       "    </tr>\n",
       "    <tr>\n",
       "      <th>3</th>\n",
       "      <td>Source Code</td>\n",
       "      <td>7.5</td>\n",
       "      <td>93</td>\n",
       "      <td>Jake Gyllenhaal</td>\n",
       "      <td>Sci-Fi</td>\n",
       "    </tr>\n",
       "    <tr>\n",
       "      <th>4</th>\n",
       "      <td>Avatar</td>\n",
       "      <td>7.8</td>\n",
       "      <td>213</td>\n",
       "      <td>Zoe Saldana</td>\n",
       "      <td>Adventure</td>\n",
       "    </tr>\n",
       "    <tr>\n",
       "      <th>5</th>\n",
       "      <td>Pinochhio</td>\n",
       "      <td>5.5</td>\n",
       "      <td>124</td>\n",
       "      <td>Disney</td>\n",
       "      <td>Fantasy</td>\n",
       "    </tr>\n",
       "    <tr>\n",
       "      <th>6</th>\n",
       "      <td>Megan</td>\n",
       "      <td>6.4</td>\n",
       "      <td>102</td>\n",
       "      <td>Jenna Davis</td>\n",
       "      <td>Thriller</td>\n",
       "    </tr>\n",
       "    <tr>\n",
       "      <th>7</th>\n",
       "      <td>Everything everywhere all at once</td>\n",
       "      <td>7.9</td>\n",
       "      <td>139</td>\n",
       "      <td>Michelle Yeoh</td>\n",
       "      <td>Sci-Fi</td>\n",
       "    </tr>\n",
       "    <tr>\n",
       "      <th>8</th>\n",
       "      <td>Jumanji 2</td>\n",
       "      <td>7.4</td>\n",
       "      <td>123</td>\n",
       "      <td>Dwayne Johnson</td>\n",
       "      <td>Adventure</td>\n",
       "    </tr>\n",
       "    <tr>\n",
       "      <th>9</th>\n",
       "      <td>The Whale</td>\n",
       "      <td>7.8</td>\n",
       "      <td>117</td>\n",
       "      <td>Darren Aronofsky</td>\n",
       "      <td>Drama</td>\n",
       "    </tr>\n",
       "    <tr>\n",
       "      <th>10</th>\n",
       "      <td>Harry Potter</td>\n",
       "      <td>7.6</td>\n",
       "      <td>152</td>\n",
       "      <td>Daniel Radcliffe</td>\n",
       "      <td>Fantasy</td>\n",
       "    </tr>\n",
       "    <tr>\n",
       "      <th>11</th>\n",
       "      <td>Captain America</td>\n",
       "      <td>7.8</td>\n",
       "      <td>147</td>\n",
       "      <td>Chris Evans</td>\n",
       "      <td>Adventure</td>\n",
       "    </tr>\n",
       "    <tr>\n",
       "      <th>12</th>\n",
       "      <td>The Avengers</td>\n",
       "      <td>8.0</td>\n",
       "      <td>143</td>\n",
       "      <td>Chris Evans</td>\n",
       "      <td>Adventure</td>\n",
       "    </tr>\n",
       "    <tr>\n",
       "      <th>13</th>\n",
       "      <td>Under the Skin</td>\n",
       "      <td>6.3</td>\n",
       "      <td>108</td>\n",
       "      <td>Scarlett Johansson</td>\n",
       "      <td>Drama</td>\n",
       "    </tr>\n",
       "    <tr>\n",
       "      <th>14</th>\n",
       "      <td>Sing 2</td>\n",
       "      <td>7.4</td>\n",
       "      <td>110</td>\n",
       "      <td>Scarlett Johansson</td>\n",
       "      <td>Children</td>\n",
       "    </tr>\n",
       "    <tr>\n",
       "      <th>15</th>\n",
       "      <td>The Matrix</td>\n",
       "      <td>8.7</td>\n",
       "      <td>136</td>\n",
       "      <td>Keanu Reeves</td>\n",
       "      <td>Action</td>\n",
       "    </tr>\n",
       "  </tbody>\n",
       "</table>\n",
       "</div>"
      ],
      "text/plain": [
       "                                  Name  Rating  Duration               Actor  \\\n",
       "0                            Inception     8.8       148   Leonardo DiCaprio   \n",
       "1                              In time     6.7       109   Justin Timberlake   \n",
       "2                     The Intouchables     8.5       112             Omar Sy   \n",
       "3                          Source Code     7.5        93     Jake Gyllenhaal   \n",
       "4                               Avatar     7.8       213         Zoe Saldana   \n",
       "5                            Pinochhio     5.5       124              Disney   \n",
       "6                                Megan     6.4       102         Jenna Davis   \n",
       "7   Everything everywhere all at once      7.9       139       Michelle Yeoh   \n",
       "8                            Jumanji 2     7.4       123      Dwayne Johnson   \n",
       "9                            The Whale     7.8       117    Darren Aronofsky   \n",
       "10                        Harry Potter     7.6       152    Daniel Radcliffe   \n",
       "11                     Captain America     7.8       147         Chris Evans   \n",
       "12                        The Avengers     8.0       143         Chris Evans   \n",
       "13                      Under the Skin     6.3       108  Scarlett Johansson   \n",
       "14                              Sing 2     7.4       110  Scarlett Johansson   \n",
       "15                          The Matrix     8.7       136        Keanu Reeves   \n",
       "\n",
       "        Genre  \n",
       "0      Sci-Fi  \n",
       "1      Sci-Fi  \n",
       "2      Comedy  \n",
       "3      Sci-Fi  \n",
       "4   Adventure  \n",
       "5     Fantasy  \n",
       "6    Thriller  \n",
       "7      Sci-Fi  \n",
       "8   Adventure  \n",
       "9       Drama  \n",
       "10    Fantasy  \n",
       "11  Adventure  \n",
       "12  Adventure  \n",
       "13      Drama  \n",
       "14   Children  \n",
       "15     Action  "
      ]
     },
     "execution_count": 7,
     "metadata": {},
     "output_type": "execute_result"
    }
   ],
   "source": [
    "data_file = pd.read_csv(\"files/data1.csv\")\n",
    "data_file"
   ]
  },
  {
   "attachments": {},
   "cell_type": "markdown",
   "metadata": {},
   "source": [
    "## 4. Filtrar valores menores que um valor X \n",
    "\n",
    "- enviar nome da coluna numérica que será realizada a filtragem;\n",
    "- enviar valor X;"
   ]
  },
  {
   "cell_type": "code",
   "execution_count": 12,
   "metadata": {},
   "outputs": [],
   "source": [
    "filter_1 = {\n",
    "    \"column\": \"Duration\",\n",
    "    \"value\" : 100\n",
    "}\n",
    "\n",
    "filter_2 = {\n",
    "    \"column\": \"Rating\",\n",
    "    \"value\" : 7.0\n",
    "}"
   ]
  },
  {
   "cell_type": "code",
   "execution_count": 44,
   "metadata": {},
   "outputs": [
    {
     "data": {
      "text/html": [
       "<div>\n",
       "<style scoped>\n",
       "    .dataframe tbody tr th:only-of-type {\n",
       "        vertical-align: middle;\n",
       "    }\n",
       "\n",
       "    .dataframe tbody tr th {\n",
       "        vertical-align: top;\n",
       "    }\n",
       "\n",
       "    .dataframe thead th {\n",
       "        text-align: right;\n",
       "    }\n",
       "</style>\n",
       "<table border=\"1\" class=\"dataframe\">\n",
       "  <thead>\n",
       "    <tr style=\"text-align: right;\">\n",
       "      <th></th>\n",
       "      <th>Name</th>\n",
       "      <th>Rating</th>\n",
       "      <th>Duration</th>\n",
       "      <th>Actor</th>\n",
       "      <th>Genre</th>\n",
       "    </tr>\n",
       "  </thead>\n",
       "  <tbody>\n",
       "    <tr>\n",
       "      <th>0</th>\n",
       "      <td>Source Code</td>\n",
       "      <td>7.5</td>\n",
       "      <td>93</td>\n",
       "      <td>Jake Gyllenhaal</td>\n",
       "      <td>Sci-Fi</td>\n",
       "    </tr>\n",
       "  </tbody>\n",
       "</table>\n",
       "</div>"
      ],
      "text/plain": [
       "          Name  Rating  Duration            Actor   Genre\n",
       "0  Source Code     7.5        93  Jake Gyllenhaal  Sci-Fi"
      ]
     },
     "execution_count": 44,
     "metadata": {},
     "output_type": "execute_result"
    }
   ],
   "source": [
    "url = \"http://127.0.0.1:5000/filter_data\"\n",
    "payload = {\"file_name\": \"data1.csv\", \"filter\": filter_1}\n",
    "post_response = requests.post(url=url, json=payload)\n",
    "filter_result = post_response.json()\n",
    "filter_columns = filter_result[\"columns\"]\n",
    "filter_data = filter_result[\"data\"]\n",
    "filter_df = pd.DataFrame(filter_data, columns=filter_columns)\n",
    "filter_df"
   ]
  },
  {
   "cell_type": "code",
   "execution_count": 45,
   "metadata": {},
   "outputs": [
    {
     "data": {
      "text/html": [
       "<div>\n",
       "<style scoped>\n",
       "    .dataframe tbody tr th:only-of-type {\n",
       "        vertical-align: middle;\n",
       "    }\n",
       "\n",
       "    .dataframe tbody tr th {\n",
       "        vertical-align: top;\n",
       "    }\n",
       "\n",
       "    .dataframe thead th {\n",
       "        text-align: right;\n",
       "    }\n",
       "</style>\n",
       "<table border=\"1\" class=\"dataframe\">\n",
       "  <thead>\n",
       "    <tr style=\"text-align: right;\">\n",
       "      <th></th>\n",
       "      <th>Name</th>\n",
       "      <th>Rating</th>\n",
       "      <th>Duration</th>\n",
       "      <th>Actor</th>\n",
       "      <th>Genre</th>\n",
       "    </tr>\n",
       "  </thead>\n",
       "  <tbody>\n",
       "    <tr>\n",
       "      <th>0</th>\n",
       "      <td>In time</td>\n",
       "      <td>6.7</td>\n",
       "      <td>109</td>\n",
       "      <td>Justin Timberlake</td>\n",
       "      <td>Sci-Fi</td>\n",
       "    </tr>\n",
       "    <tr>\n",
       "      <th>1</th>\n",
       "      <td>Pinochhio</td>\n",
       "      <td>5.5</td>\n",
       "      <td>124</td>\n",
       "      <td>Disney</td>\n",
       "      <td>Fantasy</td>\n",
       "    </tr>\n",
       "    <tr>\n",
       "      <th>2</th>\n",
       "      <td>Megan</td>\n",
       "      <td>6.4</td>\n",
       "      <td>102</td>\n",
       "      <td>Jenna Davis</td>\n",
       "      <td>Thriller</td>\n",
       "    </tr>\n",
       "    <tr>\n",
       "      <th>3</th>\n",
       "      <td>Under the Skin</td>\n",
       "      <td>6.3</td>\n",
       "      <td>108</td>\n",
       "      <td>Scarlett Johansson</td>\n",
       "      <td>Drama</td>\n",
       "    </tr>\n",
       "  </tbody>\n",
       "</table>\n",
       "</div>"
      ],
      "text/plain": [
       "             Name  Rating  Duration               Actor     Genre\n",
       "0         In time     6.7       109   Justin Timberlake    Sci-Fi\n",
       "1       Pinochhio     5.5       124              Disney   Fantasy\n",
       "2           Megan     6.4       102         Jenna Davis  Thriller\n",
       "3  Under the Skin     6.3       108  Scarlett Johansson     Drama"
      ]
     },
     "execution_count": 45,
     "metadata": {},
     "output_type": "execute_result"
    }
   ],
   "source": [
    "url = \"http://127.0.0.1:5000/filter_data\"\n",
    "payload = {\"file_name\": \"data1.csv\", \"filter\": filter_2}\n",
    "post_response = requests.post(url=url, json=payload)\n",
    "filter_result = post_response.json()\n",
    "filter_columns = filter_result[\"columns\"]\n",
    "filter_data = filter_result[\"data\"]\n",
    "filter_df = pd.DataFrame(filter_data, columns=filter_columns)\n",
    "filter_df"
   ]
  }
 ],
 "metadata": {
  "kernelspec": {
   "display_name": "uldev",
   "language": "python",
   "name": "python3"
  },
  "language_info": {
   "codemirror_mode": {
    "name": "ipython",
    "version": 3
   },
   "file_extension": ".py",
   "mimetype": "text/x-python",
   "name": "python",
   "nbconvert_exporter": "python",
   "pygments_lexer": "ipython3",
   "version": "3.10.9"
  },
  "orig_nbformat": 4
 },
 "nbformat": 4,
 "nbformat_minor": 2
}
