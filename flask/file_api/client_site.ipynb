{
 "cells": [
  {
   "attachments": {},
   "cell_type": "markdown",
   "metadata": {},
   "source": [
    "# Client Site\n",
    "\n",
    "A API deve ser capaz de:\n",
    "\n",
    "1. Requisição para criar um arquivo txt;\n",
    "2. Requisição para ler um arquivo txt;\n",
    "3. Requisição para atualizar um arquivo txt;"
   ]
  },
  {
   "attachments": {},
   "cell_type": "markdown",
   "metadata": {},
   "source": [
    "## 1. Requisição para criar um arquivo txt;"
   ]
  },
  {
   "cell_type": "code",
   "execution_count": 1,
   "metadata": {},
   "outputs": [],
   "source": [
    "import requests\n",
    "import json\n",
    "import ast\n",
    "import pandas as pd\n",
    "from dummy_data import films\n",
    "import helper_function as hf"
   ]
  },
  {
   "cell_type": "code",
   "execution_count": 2,
   "metadata": {},
   "outputs": [],
   "source": [
    "url_port = \"5000\""
   ]
  },
  {
   "cell_type": "code",
   "execution_count": 3,
   "metadata": {},
   "outputs": [
    {
     "name": "stdout",
     "output_type": "stream",
     "text": [
      "{\n",
      "  \"Mensagem\": \"Arquivo ja existe, por favor escolha outro nome\",\n",
      "  \"Arquivos\": [\n",
      "    \"files/test1.txt\",\n",
      "    \"files/data1.csv\"\n",
      "  ]\n",
      "}\n"
     ]
    }
   ],
   "source": [
    "url_endpoint = \"create_file\"\n",
    "file_name = \"test1.txt\"\n",
    "url = f\"http://localhost:{url_port}/{url_endpoint}\"\n",
    "payload = {\"file_name\": file_name}\n",
    "\n",
    "post_response = requests.post(url=url, json=payload)\n",
    "response_str = json.dumps(post_response.json(), indent=2)\n",
    "print(response_str)"
   ]
  },
  {
   "attachments": {},
   "cell_type": "markdown",
   "metadata": {},
   "source": [
    "## 2. Requisição para ler um arquivo txt;"
   ]
  },
  {
   "cell_type": "code",
   "execution_count": 4,
   "metadata": {},
   "outputs": [
    {
     "name": "stdout",
     "output_type": "stream",
     "text": [
      "{\n",
      "  \"Mensagem\": \"Leitura do Arquivo\",\n",
      "  \"Data\": [\n",
      "    \"Name,Rating,Duration,Actor,Genre\\n\",\n",
      "    \"Inception,8.8,148,Leonardo DiCaprio,Sci-Fi\\n\",\n",
      "    \"In time,6.7,109,Justin Timberlake,Sci-Fi\\n\",\n",
      "    \"The Intouchables,8.5,112,Omar Sy,Comedy\\n\",\n",
      "    \"Source Code,7.5,93,Jake Gyllenhaal,Sci-Fi\\n\",\n",
      "    \"Avatar,7.8,213,Zoe Saldana,Adventure\\n\",\n",
      "    \"Pinochhio,5.5,124,Disney,Fantasy\\n\",\n",
      "    \"Megan,6.4,102,Jenna Davis,Thriller\\n\",\n",
      "    \"Everything everywhere all at once ,7.9,139,Michelle Yeoh,Sci-Fi\\n\",\n",
      "    \"Jumanji 2,7.4,123,Dwayne Johnson,Adventure\\n\",\n",
      "    \"The Whale,7.8,117,Darren Aronofsky,Drama\\n\",\n",
      "    \"Harry Potter,7.6,152,Daniel Radcliffe,Fantasy\\n\",\n",
      "    \"Captain America,7.8,147,Chris Evans,Adventure\\n\",\n",
      "    \"The Avengers,8.0,143,Chris Evans,Adventure\\n\",\n",
      "    \"Under the Skin,6.3,108,Scarlett Johansson,Drama\\n\",\n",
      "    \"Sing 2,7.4,110,Scarlett Johansson,Children\\n\",\n",
      "    \"Inception,8.8,148,Leonardo DiCaprio,Sci-Fi\\n\",\n",
      "    \"In time,6.7,109,Justin Timberlake,Sci-Fi\\n\",\n",
      "    \"The Intouchables,8.5,112,Omar Sy,Comedy\\n\",\n",
      "    \"Source Code,7.5,93,Jake Gyllenhaal,Sci-Fi\\n\",\n",
      "    \"Avatar,7.8,213,Zoe Saldana,Adventure\\n\",\n",
      "    \"Pinochhio,5.5,124,Disney,Fantasy\\n\",\n",
      "    \"Megan,6.4,102,Jenna Davis,Thriller\\n\",\n",
      "    \"Everything everywhere all at once ,7.9,139,Michelle Yeoh,Sci-Fi\\n\",\n",
      "    \"Jumanji 2,7.4,123,Dwayne Johnson,Adventure\\n\",\n",
      "    \"The Whale,7.8,117,Darren Aronofsky,Drama\\n\",\n",
      "    \"Harry Potter,7.6,152,Daniel Radcliffe,Fantasy\\n\",\n",
      "    \"Captain America,7.8,147,Chris Evans,Adventure\\n\",\n",
      "    \"The Avengers,8.0,143,Chris Evans,Adventure\\n\",\n",
      "    \"Under the Skin,6.3,108,Scarlett Johansson,Drama\\n\",\n",
      "    \"Sing 2,7.4,110,Scarlett Johansson,Children\\n\",\n",
      "    \"Inception,8.8,148,Leonardo DiCaprio,Sci-Fi\\n\",\n",
      "    \"In time,6.7,109,Justin Timberlake,Sci-Fi\\n\",\n",
      "    \"The Intouchables,8.5,112,Omar Sy,Comedy\\n\",\n",
      "    \"Source Code,7.5,93,Jake Gyllenhaal,Sci-Fi\\n\",\n",
      "    \"Avatar,7.8,213,Zoe Saldana,Adventure\\n\",\n",
      "    \"Pinochhio,5.5,124,Disney,Fantasy\\n\",\n",
      "    \"Megan,6.4,102,Jenna Davis,Thriller\\n\",\n",
      "    \"Everything everywhere all at once ,7.9,139,Michelle Yeoh,Sci-Fi\\n\",\n",
      "    \"Jumanji 2,7.4,123,Dwayne Johnson,Adventure\\n\",\n",
      "    \"The Whale,7.8,117,Darren Aronofsky,Drama\\n\",\n",
      "    \"Harry Potter,7.6,152,Daniel Radcliffe,Fantasy\\n\",\n",
      "    \"Captain America,7.8,147,Chris Evans,Adventure\\n\",\n",
      "    \"The Avengers,8.0,143,Chris Evans,Adventure\\n\",\n",
      "    \"Under the Skin,6.3,108,Scarlett Johansson,Drama\\n\",\n",
      "    \"Sing 2,7.4,110,Scarlett Johansson,Children\\n\"\n",
      "  ]\n",
      "}\n"
     ]
    }
   ],
   "source": [
    "url_endpoint = \"read_file\"\n",
    "file_name = \"data1.csv\"\n",
    "url = f\"http://localhost:{url_port}/{url_endpoint}\"\n",
    "payload = {\"file_name\": file_name}\n",
    "\n",
    "post_response = requests.post(url=url, json=payload)\n",
    "response_str = json.dumps(post_response.json(), indent=2)\n",
    "print(response_str)"
   ]
  },
  {
   "attachments": {},
   "cell_type": "markdown",
   "metadata": {},
   "source": [
    "## 3. Requisição para atualizar um arquivo\n",
    "\n",
    "Neste exemplo o arquivo .csv criado e atualizado utilizando dados de filmes do [IMDB](https://www.imdb.com/interfaces/).\n",
    "\n",
    "- `mode` = `w` para prencher um arquivo existente.\n",
    "- `mode` = `a` para atualizar dados de um arquivo existente."
   ]
  },
  {
   "cell_type": "code",
   "execution_count": 8,
   "metadata": {},
   "outputs": [
    {
     "name": "stdout",
     "output_type": "stream",
     "text": [
      "Arquivo TXT atualizado com:\n",
      "\" {'Name': ['Inception', 'In time', 'The Intouchables', 'Source Code', 'Avatar', 'Pinochhio', 'Megan', 'Everything everywhere all at once ', 'Jumanji 2', 'The Whale', 'Harry Potter', 'Captain America', 'The Avengers', 'Under the Skin', 'Sing 2'], 'Rating': [8.8, 6.7, 8.5, 7.5, 7.8, 5.5, 6.4, 7.9, 7.4, 7.8, 7.6, 7.8, 8, 6.3, 7.4], 'Duration': [148, 109, 112, 93, 213, 124, 102, 139, 123, 117, 152, 147, 143, 108, 110], 'Actor': ['Leonardo DiCaprio', 'Justin Timberlake', 'Omar Sy', 'Jake Gyllenhaal', 'Zoe Saldana', 'Disney', 'Jenna Davis', 'Michelle Yeoh', 'Dwayne Johnson', 'Darren Aronofsky', 'Daniel Radcliffe', 'Chris Evans', 'Chris Evans', 'Scarlett Johansson', 'Scarlett Johansson'], 'Genre': ['Sci-Fi', 'Sci-Fi', 'Comedy', 'Sci-Fi', 'Adventure', 'Fantasy', 'Thriller', 'Sci-Fi', 'Adventure', 'Drama', 'Fantasy', 'Adventure', 'Adventure', 'Drama', 'Children']} {'Name': ['Inception', 'In time', 'The Intouchables', 'Source Code', 'Avatar', 'Pinochhio', 'Megan', 'Everything everywhere all at once ', 'Jumanji 2', 'The Whale', 'Harry Potter', 'Captain America', 'The Avengers', 'Under the Skin', 'Sing 2'], 'Rating': [8.8, 6.7, 8.5, 7.5, 7.8, 5.5, 6.4, 7.9, 7.4, 7.8, 7.6, 7.8, 8, 6.3, 7.4], 'Duration': [148, 109, 112, 93, 213, 124, 102, 139, 123, 117, 152, 147, 143, 108, 110], 'Actor': ['Leonardo DiCaprio', 'Justin Timberlake', 'Omar Sy', 'Jake Gyllenhaal', 'Zoe Saldana', 'Disney', 'Jenna Davis', 'Michelle Yeoh', 'Dwayne Johnson', 'Darren Aronofsky', 'Daniel Radcliffe', 'Chris Evans', 'Chris Evans', 'Scarlett Johansson', 'Scarlett Johansson'], 'Genre': ['Sci-Fi', 'Sci-Fi', 'Comedy', 'Sci-Fi', 'Adventure', 'Fantasy', 'Thriller', 'Sci-Fi', 'Adventure', 'Drama', 'Fantasy', 'Adventure', 'Adventure', 'Drama', 'Children']} {'Name': ['Inception', 'In time', 'The Intouchables', 'Source Code', 'Avatar', 'Pinochhio', 'Megan', 'Everything everywhere all at once ', 'Jumanji 2', 'The Whale', 'Harry Potter', 'Captain America', 'The Avengers', 'Under the Skin', 'Sing 2'], 'Rating': [8.8, 6.7, 8.5, 7.5, 7.8, 5.5, 6.4, 7.9, 7.4, 7.8, 7.6, 7.8, 8, 6.3, 7.4], 'Duration': [148, 109, 112, 93, 213, 124, 102, 139, 123, 117, 152, 147, 143, 108, 110], 'Actor': ['Leonardo DiCaprio', 'Justin Timberlake', 'Omar Sy', 'Jake Gyllenhaal', 'Zoe Saldana', 'Disney', 'Jenna Davis', 'Michelle Yeoh', 'Dwayne Johnson', 'Darren Aronofsky', 'Daniel Radcliffe', 'Chris Evans', 'Chris Evans', 'Scarlett Johansson', 'Scarlett Johansson'], 'Genre': ['Sci-Fi', 'Sci-Fi', 'Comedy', 'Sci-Fi', 'Adventure', 'Fantasy', 'Thriller', 'Sci-Fi', 'Adventure', 'Drama', 'Fantasy', 'Adventure', 'Adventure', 'Drama', 'Children']} {'Name': ['Inception', 'In time', 'The Intouchables', 'Source Code', 'Avatar', 'Pinochhio', 'Megan', 'Everything everywhere all at once ', 'Jumanji 2', 'The Whale', 'Harry Potter', 'Captain America', 'The Avengers', 'Under the Skin', 'Sing 2'], 'Rating': [8.8, 6.7, 8.5, 7.5, 7.8, 5.5, 6.4, 7.9, 7.4, 7.8, 7.6, 7.8, 8, 6.3, 7.4], 'Duration': [148, 109, 112, 93, 213, 124, 102, 139, 123, 117, 152, 147, 143, 108, 110], 'Actor': ['Leonardo DiCaprio', 'Justin Timberlake', 'Omar Sy', 'Jake Gyllenhaal', 'Zoe Saldana', 'Disney', 'Jenna Davis', 'Michelle Yeoh', 'Dwayne Johnson', 'Darren Aronofsky', 'Daniel Radcliffe', 'Chris Evans', 'Chris Evans', 'Scarlett Johansson', 'Scarlett Johansson'], 'Genre': ['Sci-Fi', 'Sci-Fi', 'Comedy', 'Sci-Fi', 'Adventure', 'Fantasy', 'Thriller', 'Sci-Fi', 'Adventure', 'Drama', 'Fantasy', 'Adventure', 'Adventure', 'Drama', 'Children']} {'Name': ['Inception', 'In time', 'The Intouchables', 'Source Code', 'Avatar', 'Pinochhio', 'Megan', 'Everything everywhere all at once ', 'Jumanji 2', 'The Whale', 'Harry Potter', 'Captain America', 'The Avengers', 'Under the Skin', 'Sing 2'], 'Rating': [8.8, 6.7, 8.5, 7.5, 7.8, 5.5, 6.4, 7.9, 7.4, 7.8, 7.6, 7.8, 8, 6.3, 7.4], 'Duration': [148, 109, 112, 93, 213, 124, 102, 139, 123, 117, 152, 147, 143, 108, 110], 'Actor': ['Leonardo DiCaprio', 'Justin Timberlake', 'Omar Sy', 'Jake Gyllenhaal', 'Zoe Saldana', 'Disney', 'Jenna Davis', 'Michelle Yeoh', 'Dwayne Johnson', 'Darren Aronofsky', 'Daniel Radcliffe', 'Chris Evans', 'Chris Evans', 'Scarlett Johansson', 'Scarlett Johansson'], 'Genre': ['Sci-Fi', 'Sci-Fi', 'Comedy', 'Sci-Fi', 'Adventure', 'Fantasy', 'Thriller', 'Sci-Fi', 'Adventure', 'Drama', 'Fantasy', 'Adventure', 'Adventure', 'Drama', 'Children']} {'Name': ['Inception', 'In time', 'The Intouchables', 'Source Code', 'Avatar', 'Pinochhio', 'Megan', 'Everything everywhere all at once ', 'Jumanji 2', 'The Whale', 'Harry Potter', 'Captain America', 'The Avengers', 'Under the Skin', 'Sing 2'], 'Rating': [8.8, 6.7, 8.5, 7.5, 7.8, 5.5, 6.4, 7.9, 7.4, 7.8, 7.6, 7.8, 8, 6.3, 7.4], 'Duration': [148, 109, 112, 93, 213, 124, 102, 139, 123, 117, 152, 147, 143, 108, 110], 'Actor': ['Leonardo DiCaprio', 'Justin Timberlake', 'Omar Sy', 'Jake Gyllenhaal', 'Zoe Saldana', 'Disney', 'Jenna Davis', 'Michelle Yeoh', 'Dwayne Johnson', 'Darren Aronofsky', 'Daniel Radcliffe', 'Chris Evans', 'Chris Evans', 'Scarlett Johansson', 'Scarlett Johansson'], 'Genre': ['Sci-Fi', 'Sci-Fi', 'Comedy', 'Sci-Fi', 'Adventure', 'Fantasy', 'Thriller', 'Sci-Fi', 'Adventure', 'Drama', 'Fantasy', 'Adventure', 'Adventure', 'Drama', 'Children']} {'Name': ['Inception', 'In time', 'The Intouchables', 'Source Code', 'Avatar', 'Pinochhio', 'Megan', 'Everything everywhere all at once ', 'Jumanji 2', 'The Whale', 'Harry Potter', 'Captain America', 'The Avengers', 'Under the Skin', 'Sing 2'], 'Rating': [8.8, 6.7, 8.5, 7.5, 7.8, 5.5, 6.4, 7.9, 7.4, 7.8, 7.6, 7.8, 8, 6.3, 7.4], 'Duration': [148, 109, 112, 93, 213, 124, 102, 139, 123, 117, 152, 147, 143, 108, 110], 'Actor': ['Leonardo DiCaprio', 'Justin Timberlake', 'Omar Sy', 'Jake Gyllenhaal', 'Zoe Saldana', 'Disney', 'Jenna Davis', 'Michelle Yeoh', 'Dwayne Johnson', 'Darren Aronofsky', 'Daniel Radcliffe', 'Chris Evans', 'Chris Evans', 'Scarlett Johansson', 'Scarlett Johansson'], 'Genre': ['Sci-Fi', 'Sci-Fi', 'Comedy', 'Sci-Fi', 'Adventure', 'Fantasy', 'Thriller', 'Sci-Fi', 'Adventure', 'Drama', 'Fantasy', 'Adventure', 'Adventure', 'Drama', 'Children']} {'Name': ['Inception', 'In time', 'The Intouchables', 'Source Code', 'Avatar', 'Pinochhio', 'Megan', 'Everything everywhere all at once ', 'Jumanji 2', 'The Whale', 'Harry Potter', 'Captain America', 'The Avengers', 'Under the Skin', 'Sing 2'], 'Rating': [8.8, 6.7, 8.5, 7.5, 7.8, 5.5, 6.4, 7.9, 7.4, 7.8, 7.6, 7.8, 8, 6.3, 7.4], 'Duration': [148, 109, 112, 93, 213, 124, 102, 139, 123, 117, 152, 147, 143, 108, 110], 'Actor': ['Leonardo DiCaprio', 'Justin Timberlake', 'Omar Sy', 'Jake Gyllenhaal', 'Zoe Saldana', 'Disney', 'Jenna Davis', 'Michelle Yeoh', 'Dwayne Johnson', 'Darren Aronofsky', 'Daniel Radcliffe', 'Chris Evans', 'Chris Evans', 'Scarlett Johansson', 'Scarlett Johansson'], 'Genre': ['Sci-Fi', 'Sci-Fi', 'Comedy', 'Sci-Fi', 'Adventure', 'Fantasy', 'Thriller', 'Sci-Fi', 'Adventure', 'Drama', 'Fantasy', 'Adventure', 'Adventure', 'Drama', 'Children']} {'Name': ['Inception', 'In time', 'The Intouchables', 'Source Code', 'Avatar', 'Pinochhio', 'Megan', 'Everything everywhere all at once ', 'Jumanji 2', 'The Whale', 'Harry Potter', 'Captain America', 'The Avengers', 'Under the Skin', 'Sing 2'], 'Rating': [8.8, 6.7, 8.5, 7.5, 7.8, 5.5, 6.4, 7.9, 7.4, 7.8, 7.6, 7.8, 8, 6.3, 7.4], 'Duration': [148, 109, 112, 93, 213, 124, 102, 139, 123, 117, 152, 147, 143, 108, 110], 'Actor': ['Leonardo DiCaprio', 'Justin Timberlake', 'Omar Sy', 'Jake Gyllenhaal', 'Zoe Saldana', 'Disney', 'Jenna Davis', 'Michelle Yeoh', 'Dwayne Johnson', 'Darren Aronofsky', 'Daniel Radcliffe', 'Chris Evans', 'Chris Evans', 'Scarlett Johansson', 'Scarlett Johansson'], 'Genre': ['Sci-Fi', 'Sci-Fi', 'Comedy', 'Sci-Fi', 'Adventure', 'Fantasy', 'Thriller', 'Sci-Fi', 'Adventure', 'Drama', 'Fantasy', 'Adventure', 'Adventure', 'Drama', 'Children']} {'Name': ['Inception', 'In time', 'The Intouchables', 'Source Code', 'Avatar', 'Pinochhio', 'Megan', 'Everything everywhere all at once ', 'Jumanji 2', 'The Whale', 'Harry Potter', 'Captain America', 'The Avengers', 'Under the Skin', 'Sing 2'], 'Rating': [8.8, 6.7, 8.5, 7.5, 7.8, 5.5, 6.4, 7.9, 7.4, 7.8, 7.6, 7.8, 8, 6.3, 7.4], 'Duration': [148, 109, 112, 93, 213, 124, 102, 139, 123, 117, 152, 147, 143, 108, 110], 'Actor': ['Leonardo DiCaprio', 'Justin Timberlake', 'Omar Sy', 'Jake Gyllenhaal', 'Zoe Saldana', 'Disney', 'Jenna Davis', 'Michelle Yeoh', 'Dwayne Johnson', 'Darren Aronofsky', 'Daniel Radcliffe', 'Chris Evans', 'Chris Evans', 'Scarlett Johansson', 'Scarlett Johansson'], 'Genre': ['Sci-Fi', 'Sci-Fi', 'Comedy', 'Sci-Fi', 'Adventure', 'Fantasy', 'Thriller', 'Sci-Fi', 'Adventure', 'Drama', 'Fantasy', 'Adventure', 'Adventure', 'Drama', 'Children']} {'Name': ['Inception', 'In time', 'The Intouchables', 'Source Code', 'Avatar', 'Pinochhio', 'Megan', 'Everything everywhere all at once ', 'Jumanji 2', 'The Whale', 'Harry Potter', 'Captain America', 'The Avengers', 'Under the Skin', 'Sing 2'], 'Rating': [8.8, 6.7, 8.5, 7.5, 7.8, 5.5, 6.4, 7.9, 7.4, 7.8, 7.6, 7.8, 8, 6.3, 7.4], 'Duration': [148, 109, 112, 93, 213, 124, 102, 139, 123, 117, 152, 147, 143, 108, 110], 'Actor': ['Leonardo DiCaprio', 'Justin Timberlake', 'Omar Sy', 'Jake Gyllenhaal', 'Zoe Saldana', 'Disney', 'Jenna Davis', 'Michelle Yeoh', 'Dwayne Johnson', 'Darren Aronofsky', 'Daniel Radcliffe', 'Chris Evans', 'Chris Evans', 'Scarlett Johansson', 'Scarlett Johansson'], 'Genre': ['Sci-Fi', 'Sci-Fi', 'Comedy', 'Sci-Fi', 'Adventure', 'Fantasy', 'Thriller', 'Sci-Fi', 'Adventure', 'Drama', 'Fantasy', 'Adventure', 'Adventure', 'Drama', 'Children']} {'Name': ['Inception', 'In time', 'The Intouchables', 'Source Code', 'Avatar', 'Pinochhio', 'Megan', 'Everything everywhere all at once ', 'Jumanji 2', 'The Whale', 'Harry Potter', 'Captain America', 'The Avengers', 'Under the Skin', 'Sing 2'], 'Rating': [8.8, 6.7, 8.5, 7.5, 7.8, 5.5, 6.4, 7.9, 7.4, 7.8, 7.6, 7.8, 8, 6.3, 7.4], 'Duration': [148, 109, 112, 93, 213, 124, 102, 139, 123, 117, 152, 147, 143, 108, 110], 'Actor': ['Leonardo DiCaprio', 'Justin Timberlake', 'Omar Sy', 'Jake Gyllenhaal', 'Zoe Saldana', 'Disney', 'Jenna Davis', 'Michelle Yeoh', 'Dwayne Johnson', 'Darren Aronofsky', 'Daniel Radcliffe', 'Chris Evans', 'Chris Evans', 'Scarlett Johansson', 'Scarlett Johansson'], 'Genre': ['Sci-Fi', 'Sci-Fi', 'Comedy', 'Sci-Fi', 'Adventure', 'Fantasy', 'Thriller', 'Sci-Fi', 'Adventure', 'Drama', 'Fantasy', 'Adventure', 'Adventure', 'Drama', 'Children']} {'Name': ['Inception', 'In time', 'The Intouchables', 'Source Code', 'Avatar', 'Pinochhio', 'Megan', 'Everything everywhere all at once ', 'Jumanji 2', 'The Whale', 'Harry Potter', 'Captain America', 'The Avengers', 'Under the Skin', 'Sing 2'], 'Rating': [8.8, 6.7, 8.5, 7.5, 7.8, 5.5, 6.4, 7.9, 7.4, 7.8, 7.6, 7.8, 8, 6.3, 7.4], 'Duration': [148, 109, 112, 93, 213, 124, 102, 139, 123, 117, 152, 147, 143, 108, 110], 'Actor': ['Leonardo DiCaprio', 'Justin Timberlake', 'Omar Sy', 'Jake Gyllenhaal', 'Zoe Saldana', 'Disney', 'Jenna Davis', 'Michelle Yeoh', 'Dwayne Johnson', 'Darren Aronofsky', 'Daniel Radcliffe', 'Chris Evans', 'Chris Evans', 'Scarlett Johansson', 'Scarlett Johansson'], 'Genre': ['Sci-Fi', 'Sci-Fi', 'Comedy', 'Sci-Fi', 'Adventure', 'Fantasy', 'Thriller', 'Sci-Fi', 'Adventure', 'Drama', 'Fantasy', 'Adventure', 'Adventure', 'Drama', 'Children']} {'Name': ['Inception', 'In time', 'The Intouchables', 'Source Code', 'Avatar', 'Pinochhio', 'Megan', 'Everything everywhere all at once ', 'Jumanji 2', 'The Whale', 'Harry Potter', 'Captain America', 'The Avengers', 'Under the Skin', 'Sing 2'], 'Rating': [8.8, 6.7, 8.5, 7.5, 7.8, 5.5, 6.4, 7.9, 7.4, 7.8, 7.6, 7.8, 8, 6.3, 7.4], 'Duration': [148, 109, 112, 93, 213, 124, 102, 139, 123, 117, 152, 147, 143, 108, 110], 'Actor': ['Leonardo DiCaprio', 'Justin Timberlake', 'Omar Sy', 'Jake Gyllenhaal', 'Zoe Saldana', 'Disney', 'Jenna Davis', 'Michelle Yeoh', 'Dwayne Johnson', 'Darren Aronofsky', 'Daniel Radcliffe', 'Chris Evans', 'Chris Evans', 'Scarlett Johansson', 'Scarlett Johansson'], 'Genre': ['Sci-Fi', 'Sci-Fi', 'Comedy', 'Sci-Fi', 'Adventure', 'Fantasy', 'Thriller', 'Sci-Fi', 'Adventure', 'Drama', 'Fantasy', 'Adventure', 'Adventure', 'Drama', 'Children']} {'Name': ['Inception', 'In time', 'The Intouchables', 'Source Code', 'Avatar', 'Pinochhio', 'Megan', 'Everything everywhere all at once ', 'Jumanji 2', 'The Whale', 'Harry Potter', 'Captain America', 'The Avengers', 'Under the Skin', 'Sing 2'], 'Rating': [8.8, 6.7, 8.5, 7.5, 7.8, 5.5, 6.4, 7.9, 7.4, 7.8, 7.6, 7.8, 8, 6.3, 7.4], 'Duration': [148, 109, 112, 93, 213, 124, 102, 139, 123, 117, 152, 147, 143, 108, 110], 'Actor': ['Leonardo DiCaprio', 'Justin Timberlake', 'Omar Sy', 'Jake Gyllenhaal', 'Zoe Saldana', 'Disney', 'Jenna Davis', 'Michelle Yeoh', 'Dwayne Johnson', 'Darren Aronofsky', 'Daniel Radcliffe', 'Chris Evans', 'Chris Evans', 'Scarlett Johansson', 'Scarlett Johansson'], 'Genre': ['Sci-Fi', 'Sci-Fi', 'Comedy', 'Sci-Fi', 'Adventure', 'Fantasy', 'Thriller', 'Sci-Fi', 'Adventure', 'Drama', 'Fantasy', 'Adventure', 'Adventure', 'Drama', 'Children']} {'Name': ['Inception', 'In time', 'The Intouchables', 'Source Code', 'Avatar', 'Pinochhio', 'Megan', 'Everything everywhere all at once ', 'Jumanji 2', 'The Whale', 'Harry Potter', 'Captain America', 'The Avengers', 'Under the Skin', 'Sing 2'], 'Rating': [8.8, 6.7, 8.5, 7.5, 7.8, 5.5, 6.4, 7.9, 7.4, 7.8, 7.6, 7.8, 8, 6.3, 7.4], 'Duration': [148, 109, 112, 93, 213, 124, 102, 139, 123, 117, 152, 147, 143, 108, 110], 'Actor': ['Leonardo DiCaprio', 'Justin Timberlake', 'Omar Sy', 'Jake Gyllenhaal', 'Zoe Saldana', 'Disney', 'Jenna Davis', 'Michelle Yeoh', 'Dwayne Johnson', 'Darren Aronofsky', 'Daniel Radcliffe', 'Chris Evans', 'Chris Evans', 'Scarlett Johansson', 'Scarlett Johansson'], 'Genre': ['Sci-Fi', 'Sci-Fi', 'Comedy', 'Sci-Fi', 'Adventure', 'Fantasy', 'Thriller', 'Sci-Fi', 'Adventure', 'Drama', 'Fantasy', 'Adventure', 'Adventure', 'Drama', 'Children']} {'Name': ['Inception', 'In time', 'The Intouchables', 'Source Code', 'Avatar', 'Pinochhio', 'Megan', 'Everything everywhere all at once ', 'Jumanji 2', 'The Whale', 'Harry Potter', 'Captain America', 'The Avengers', 'Under the Skin', 'Sing 2'], 'Rating': [8.8, 6.7, 8.5, 7.5, 7.8, 5.5, 6.4, 7.9, 7.4, 7.8, 7.6, 7.8, 8, 6.3, 7.4], 'Duration': [148, 109, 112, 93, 213, 124, 102, 139, 123, 117, 152, 147, 143, 108, 110], 'Actor': ['Leonardo DiCaprio', 'Justin Timberlake', 'Omar Sy', 'Jake Gyllenhaal', 'Zoe Saldana', 'Disney', 'Jenna Davis', 'Michelle Yeoh', 'Dwayne Johnson', 'Darren Aronofsky', 'Daniel Radcliffe', 'Chris Evans', 'Chris Evans', 'Scarlett Johansson', 'Scarlett Johansson'], 'Genre': ['Sci-Fi', 'Sci-Fi', 'Comedy', 'Sci-Fi', 'Adventure', 'Fantasy', 'Thriller', 'Sci-Fi', 'Adventure', 'Drama', 'Fantasy', 'Adventure', 'Adventure', 'Drama', 'Children']} {'Name': ['Inception', 'In time', 'The Intouchables', 'Source Code', 'Avatar', 'Pinochhio', 'Megan', 'Everything everywhere all at once ', 'Jumanji 2', 'The Whale', 'Harry Potter', 'Captain America', 'The Avengers', 'Under the Skin', 'Sing 2'], 'Rating': [8.8, 6.7, 8.5, 7.5, 7.8, 5.5, 6.4, 7.9, 7.4, 7.8, 7.6, 7.8, 8, 6.3, 7.4], 'Duration': [148, 109, 112, 93, 213, 124, 102, 139, 123, 117, 152, 147, 143, 108, 110], 'Actor': ['Leonardo DiCaprio', 'Justin Timberlake', 'Omar Sy', 'Jake Gyllenhaal', 'Zoe Saldana', 'Disney', 'Jenna Davis', 'Michelle Yeoh', 'Dwayne Johnson', 'Darren Aronofsky', 'Daniel Radcliffe', 'Chris Evans', 'Chris Evans', 'Scarlett Johansson', 'Scarlett Johansson'], 'Genre': ['Sci-Fi', 'Sci-Fi', 'Comedy', 'Sci-Fi', 'Adventure', 'Fantasy', 'Thriller', 'Sci-Fi', 'Adventure', 'Drama', 'Fantasy', 'Adventure', 'Adventure', 'Drama', 'Children']} {'Name': ['Inception', 'In time', 'The Intouchables', 'Source Code', 'Avatar', 'Pinochhio', 'Megan', 'Everything everywhere all at once ', 'Jumanji 2', 'The Whale', 'Harry Potter', 'Captain America', 'The Avengers', 'Under the Skin', 'Sing 2'], 'Rating': [8.8, 6.7, 8.5, 7.5, 7.8, 5.5, 6.4, 7.9, 7.4, 7.8, 7.6, 7.8, 8, 6.3, 7.4], 'Duration': [148, 109, 112, 93, 213, 124, 102, 139, 123, 117, 152, 147, 143, 108, 110], 'Actor': ['Leonardo DiCaprio', 'Justin Timberlake', 'Omar Sy', 'Jake Gyllenhaal', 'Zoe Saldana', 'Disney', 'Jenna Davis', 'Michelle Yeoh', 'Dwayne Johnson', 'Darren Aronofsky', 'Daniel Radcliffe', 'Chris Evans', 'Chris Evans', 'Scarlett Johansson', 'Scarlett Johansson'], 'Genre': ['Sci-Fi', 'Sci-Fi', 'Comedy', 'Sci-Fi', 'Adventure', 'Fantasy', 'Thriller', 'Sci-Fi', 'Adventure', 'Drama', 'Fantasy', 'Adventure', 'Adventure', 'Drama', 'Children']} {'Name': ['Inception', 'In time', 'The Intouchables', 'Source Code', 'Avatar', 'Pinochhio', 'Megan', 'Everything everywhere all at once ', 'Jumanji 2', 'The Whale', 'Harry Potter', 'Captain America', 'The Avengers', 'Under the Skin', 'Sing 2'], 'Rating': [8.8, 6.7, 8.5, 7.5, 7.8, 5.5, 6.4, 7.9, 7.4, 7.8, 7.6, 7.8, 8, 6.3, 7.4], 'Duration': [148, 109, 112, 93, 213, 124, 102, 139, 123, 117, 152, 147, 143, 108, 110], 'Actor': ['Leonardo DiCaprio', 'Justin Timberlake', 'Omar Sy', 'Jake Gyllenhaal', 'Zoe Saldana', 'Disney', 'Jenna Davis', 'Michelle Yeoh', 'Dwayne Johnson', 'Darren Aronofsky', 'Daniel Radcliffe', 'Chris Evans', 'Chris Evans', 'Scarlett Johansson', 'Scarlett Johansson'], 'Genre': ['Sci-Fi', 'Sci-Fi', 'Comedy', 'Sci-Fi', 'Adventure', 'Fantasy', 'Thriller', 'Sci-Fi', 'Adventure', 'Drama', 'Fantasy', 'Adventure', 'Adventure', 'Drama', 'Children']} {'Name': ['Inception', 'In time', 'The Intouchables', 'Source Code', 'Avatar', 'Pinochhio', 'Megan', 'Everything everywhere all at once ', 'Jumanji 2', 'The Whale', 'Harry Potter', 'Captain America', 'The Avengers', 'Under the Skin', 'Sing 2'], 'Rating': [8.8, 6.7, 8.5, 7.5, 7.8, 5.5, 6.4, 7.9, 7.4, 7.8, 7.6, 7.8, 8, 6.3, 7.4], 'Duration': [148, 109, 112, 93, 213, 124, 102, 139, 123, 117, 152, 147, 143, 108, 110], 'Actor': ['Leonardo DiCaprio', 'Justin Timberlake', 'Omar Sy', 'Jake Gyllenhaal', 'Zoe Saldana', 'Disney', 'Jenna Davis', 'Michelle Yeoh', 'Dwayne Johnson', 'Darren Aronofsky', 'Daniel Radcliffe', 'Chris Evans', 'Chris Evans', 'Scarlett Johansson', 'Scarlett Johansson'], 'Genre': ['Sci-Fi', 'Sci-Fi', 'Comedy', 'Sci-Fi', 'Adventure', 'Fantasy', 'Thriller', 'Sci-Fi', 'Adventure', 'Drama', 'Fantasy', 'Adventure', 'Adventure', 'Drama', 'Children']} {'Name': ['Inception', 'In time', 'The Intouchables', 'Source Code', 'Avatar', 'Pinochhio', 'Megan', 'Everything everywhere all at once ', 'Jumanji 2', 'The Whale', 'Harry Potter', 'Captain America', 'The Avengers', 'Under the Skin', 'Sing 2'], 'Rating': [8.8, 6.7, 8.5, 7.5, 7.8, 5.5, 6.4, 7.9, 7.4, 7.8, 7.6, 7.8, 8, 6.3, 7.4], 'Duration': [148, 109, 112, 93, 213, 124, 102, 139, 123, 117, 152, 147, 143, 108, 110], 'Actor': ['Leonardo DiCaprio', 'Justin Timberlake', 'Omar Sy', 'Jake Gyllenhaal', 'Zoe Saldana', 'Disney', 'Jenna Davis', 'Michelle Yeoh', 'Dwayne Johnson', 'Darren Aronofsky', 'Daniel Radcliffe', 'Chris Evans', 'Chris Evans', 'Scarlett Johansson', 'Scarlett Johansson'], 'Genre': ['Sci-Fi', 'Sci-Fi', 'Comedy', 'Sci-Fi', 'Adventure', 'Fantasy', 'Thriller', 'Sci-Fi', 'Adventure', 'Drama', 'Fantasy', 'Adventure', 'Adventure', 'Drama', 'Children']} {'Name': ['Inception', 'In time', 'The Intouchables', 'Source Code', 'Avatar', 'Pinochhio', 'Megan', 'Everything everywhere all at once ', 'Jumanji 2', 'The Whale', 'Harry Potter', 'Captain America', 'The Avengers', 'Under the Skin', 'Sing 2'], 'Rating': [8.8, 6.7, 8.5, 7.5, 7.8, 5.5, 6.4, 7.9, 7.4, 7.8, 7.6, 7.8, 8, 6.3, 7.4], 'Duration': [148, 109, 112, 93, 213, 124, 102, 139, 123, 117, 152, 147, 143, 108, 110], 'Actor': ['Leonardo DiCaprio', 'Justin Timberlake', 'Omar Sy', 'Jake Gyllenhaal', 'Zoe Saldana', 'Disney', 'Jenna Davis', 'Michelle Yeoh', 'Dwayne Johnson', 'Darren Aronofsky', 'Daniel Radcliffe', 'Chris Evans', 'Chris Evans', 'Scarlett Johansson', 'Scarlett Johansson'], 'Genre': ['Sci-Fi', 'Sci-Fi', 'Comedy', 'Sci-Fi', 'Adventure', 'Fantasy', 'Thriller', 'Sci-Fi', 'Adventure', 'Drama', 'Fantasy', 'Adventure', 'Adventure', 'Drama', 'Children']} {'Name': ['Inception', 'In time', 'The Intouchables', 'Source Code', 'Avatar', 'Pinochhio', 'Megan', 'Everything everywhere all at once ', 'Jumanji 2', 'The Whale', 'Harry Potter', 'Captain America', 'The Avengers', 'Under the Skin', 'Sing 2'], 'Rating': [8.8, 6.7, 8.5, 7.5, 7.8, 5.5, 6.4, 7.9, 7.4, 7.8, 7.6, 7.8, 8, 6.3, 7.4], 'Duration': [148, 109, 112, 93, 213, 124, 102, 139, 123, 117, 152, 147, 143, 108, 110], 'Actor': ['Leonardo DiCaprio', 'Justin Timberlake', 'Omar Sy', 'Jake Gyllenhaal', 'Zoe Saldana', 'Disney', 'Jenna Davis', 'Michelle Yeoh', 'Dwayne Johnson', 'Darren Aronofsky', 'Daniel Radcliffe', 'Chris Evans', 'Chris Evans', 'Scarlett Johansson', 'Scarlett Johansson'], 'Genre': ['Sci-Fi', 'Sci-Fi', 'Comedy', 'Sci-Fi', 'Adventure', 'Fantasy', 'Thriller', 'Sci-Fi', 'Adventure', 'Drama', 'Fantasy', 'Adventure', 'Adventure', 'Drama', 'Children']} {'Name': ['Inception', 'In time', 'The Intouchables', 'Source Code', 'Avatar', 'Pinochhio', 'Megan', 'Everything everywhere all at once ', 'Jumanji 2', 'The Whale', 'Harry Potter', 'Captain America', 'The Avengers', 'Under the Skin', 'Sing 2'], 'Rating': [8.8, 6.7, 8.5, 7.5, 7.8, 5.5, 6.4, 7.9, 7.4, 7.8, 7.6, 7.8, 8, 6.3, 7.4], 'Duration': [148, 109, 112, 93, 213, 124, 102, 139, 123, 117, 152, 147, 143, 108, 110], 'Actor': ['Leonardo DiCaprio', 'Justin Timberlake', 'Omar Sy', 'Jake Gyllenhaal', 'Zoe Saldana', 'Disney', 'Jenna Davis', 'Michelle Yeoh', 'Dwayne Johnson', 'Darren Aronofsky', 'Daniel Radcliffe', 'Chris Evans', 'Chris Evans', 'Scarlett Johansson', 'Scarlett Johansson'], 'Genre': ['Sci-Fi', 'Sci-Fi', 'Comedy', 'Sci-Fi', 'Adventure', 'Fantasy', 'Thriller', 'Sci-Fi', 'Adventure', 'Drama', 'Fantasy', 'Adventure', 'Adventure', 'Drama', 'Children']} {'Name': ['Inception', 'In time', 'The Intouchables', 'Source Code', 'Avatar', 'Pinochhio', 'Megan', 'Everything everywhere all at once ', 'Jumanji 2', 'The Whale', 'Harry Potter', 'Captain America', 'The Avengers', 'Under the Skin', 'Sing 2'], 'Rating': [8.8, 6.7, 8.5, 7.5, 7.8, 5.5, 6.4, 7.9, 7.4, 7.8, 7.6, 7.8, 8, 6.3, 7.4], 'Duration': [148, 109, 112, 93, 213, 124, 102, 139, 123, 117, 152, 147, 143, 108, 110], 'Actor': ['Leonardo DiCaprio', 'Justin Timberlake', 'Omar Sy', 'Jake Gyllenhaal', 'Zoe Saldana', 'Disney', 'Jenna Davis', 'Michelle Yeoh', 'Dwayne Johnson', 'Darren Aronofsky', 'Daniel Radcliffe', 'Chris Evans', 'Chris Evans', 'Scarlett Johansson', 'Scarlett Johansson'], 'Genre': ['Sci-Fi', 'Sci-Fi', 'Comedy', 'Sci-Fi', 'Adventure', 'Fantasy', 'Thriller', 'Sci-Fi', 'Adventure', 'Drama', 'Fantasy', 'Adventure', 'Adventure', 'Drama', 'Children']} {'Name': ['Inception', 'In time', 'The Intouchables', 'Source Code', 'Avatar', 'Pinochhio', 'Megan', 'Everything everywhere all at once ', 'Jumanji 2', 'The Whale', 'Harry Potter', 'Captain America', 'The Avengers', 'Under the Skin', 'Sing 2'], 'Rating': [8.8, 6.7, 8.5, 7.5, 7.8, 5.5, 6.4, 7.9, 7.4, 7.8, 7.6, 7.8, 8, 6.3, 7.4], 'Duration': [148, 109, 112, 93, 213, 124, 102, 139, 123, 117, 152, 147, 143, 108, 110], 'Actor': ['Leonardo DiCaprio', 'Justin Timberlake', 'Omar Sy', 'Jake Gyllenhaal', 'Zoe Saldana', 'Disney', 'Jenna Davis', 'Michelle Yeoh', 'Dwayne Johnson', 'Darren Aronofsky', 'Daniel Radcliffe', 'Chris Evans', 'Chris Evans', 'Scarlett Johansson', 'Scarlett Johansson'], 'Genre': ['Sci-Fi', 'Sci-Fi', 'Comedy', 'Sci-Fi', 'Adventure', 'Fantasy', 'Thriller', 'Sci-Fi', 'Adventure', 'Drama', 'Fantasy', 'Adventure', 'Adventure', 'Drama', 'Children']} {'Name': ['Inception', 'In time', 'The Intouchables', 'Source Code', 'Avatar', 'Pinochhio', 'Megan', 'Everything everywhere all at once ', 'Jumanji 2', 'The Whale', 'Harry Potter', 'Captain America', 'The Avengers', 'Under the Skin', 'Sing 2'], 'Rating': [8.8, 6.7, 8.5, 7.5, 7.8, 5.5, 6.4, 7.9, 7.4, 7.8, 7.6, 7.8, 8, 6.3, 7.4], 'Duration': [148, 109, 112, 93, 213, 124, 102, 139, 123, 117, 152, 147, 143, 108, 110], 'Actor': ['Leonardo DiCaprio', 'Justin Timberlake', 'Omar Sy', 'Jake Gyllenhaal', 'Zoe Saldana', 'Disney', 'Jenna Davis', 'Michelle Yeoh', 'Dwayne Johnson', 'Darren Aronofsky', 'Daniel Radcliffe', 'Chris Evans', 'Chris Evans', 'Scarlett Johansson', 'Scarlett Johansson'], 'Genre': ['Sci-Fi', 'Sci-Fi', 'Comedy', 'Sci-Fi', 'Adventure', 'Fantasy', 'Thriller', 'Sci-Fi', 'Adventure', 'Drama', 'Fantasy', 'Adventure', 'Adventure', 'Drama', 'Children']} {'Name': ['Inception', 'In time', 'The Intouchables', 'Source Code', 'Avatar', 'Pinochhio', 'Megan', 'Everything everywhere all at once ', 'Jumanji 2', 'The Whale', 'Harry Potter', 'Captain America', 'The Avengers', 'Under the Skin', 'Sing 2'], 'Rating': [8.8, 6.7, 8.5, 7.5, 7.8, 5.5, 6.4, 7.9, 7.4, 7.8, 7.6, 7.8, 8, 6.3, 7.4], 'Duration': [148, 109, 112, 93, 213, 124, 102, 139, 123, 117, 152, 147, 143, 108, 110], 'Actor': ['Leonardo DiCaprio', 'Justin Timberlake', 'Omar Sy', 'Jake Gyllenhaal', 'Zoe Saldana', 'Disney', 'Jenna Davis', 'Michelle Yeoh', 'Dwayne Johnson', 'Darren Aronofsky', 'Daniel Radcliffe', 'Chris Evans', 'Chris Evans', 'Scarlett Johansson', 'Scarlett Johansson'], 'Genre': ['Sci-Fi', 'Sci-Fi', 'Comedy', 'Sci-Fi', 'Adventure', 'Fantasy', 'Thriller', 'Sci-Fi', 'Adventure', 'Drama', 'Fantasy', 'Adventure', 'Adventure', 'Drama', 'Children']} {'Name': ['Inception', 'In time', 'The Intouchables', 'Source Code', 'Avatar', 'Pinochhio', 'Megan', 'Everything everywhere all at once ', 'Jumanji 2', 'The Whale', 'Harry Potter', 'Captain America', 'The Avengers', 'Under the Skin', 'Sing 2'], 'Rating': [8.8, 6.7, 8.5, 7.5, 7.8, 5.5, 6.4, 7.9, 7.4, 7.8, 7.6, 7.8, 8, 6.3, 7.4], 'Duration': [148, 109, 112, 93, 213, 124, 102, 139, 123, 117, 152, 147, 143, 108, 110], 'Actor': ['Leonardo DiCaprio', 'Justin Timberlake', 'Omar Sy', 'Jake Gyllenhaal', 'Zoe Saldana', 'Disney', 'Jenna Davis', 'Michelle Yeoh', 'Dwayne Johnson', 'Darren Aronofsky', 'Daniel Radcliffe', 'Chris Evans', 'Chris Evans', 'Scarlett Johansson', 'Scarlett Johansson'], 'Genre': ['Sci-Fi', 'Sci-Fi', 'Comedy', 'Sci-Fi', 'Adventure', 'Fantasy', 'Thriller', 'Sci-Fi', 'Adventure', 'Drama', 'Fantasy', 'Adventure', 'Adventure', 'Drama', 'Children']} {'Name': ['Inception', 'In time', 'The Intouchables', 'Source Code', 'Avatar', 'Pinochhio', 'Megan', 'Everything everywhere all at once ', 'Jumanji 2', 'The Whale', 'Harry Potter', 'Captain America', 'The Avengers', 'Under the Skin', 'Sing 2'], 'Rating': [8.8, 6.7, 8.5, 7.5, 7.8, 5.5, 6.4, 7.9, 7.4, 7.8, 7.6, 7.8, 8, 6.3, 7.4], 'Duration': [148, 109, 112, 93, 213, 124, 102, 139, 123, 117, 152, 147, 143, 108, 110], 'Actor': ['Leonardo DiCaprio', 'Justin Timberlake', 'Omar Sy', 'Jake Gyllenhaal', 'Zoe Saldana', 'Disney', 'Jenna Davis', 'Michelle Yeoh', 'Dwayne Johnson', 'Darren Aronofsky', 'Daniel Radcliffe', 'Chris Evans', 'Chris Evans', 'Scarlett Johansson', 'Scarlett Johansson'], 'Genre': ['Sci-Fi', 'Sci-Fi', 'Comedy', 'Sci-Fi', 'Adventure', 'Fantasy', 'Thriller', 'Sci-Fi', 'Adventure', 'Drama', 'Fantasy', 'Adventure', 'Adventure', 'Drama', 'Children']} {'Name': ['Inception', 'In time', 'The Intouchables', 'Source Code', 'Avatar', 'Pinochhio', 'Megan', 'Everything everywhere all at once ', 'Jumanji 2', 'The Whale', 'Harry Potter', 'Captain America', 'The Avengers', 'Under the Skin', 'Sing 2'], 'Rating': [8.8, 6.7, 8.5, 7.5, 7.8, 5.5, 6.4, 7.9, 7.4, 7.8, 7.6, 7.8, 8, 6.3, 7.4], 'Duration': [148, 109, 112, 93, 213, 124, 102, 139, 123, 117, 152, 147, 143, 108, 110], 'Actor': ['Leonardo DiCaprio', 'Justin Timberlake', 'Omar Sy', 'Jake Gyllenhaal', 'Zoe Saldana', 'Disney', 'Jenna Davis', 'Michelle Yeoh', 'Dwayne Johnson', 'Darren Aronofsky', 'Daniel Radcliffe', 'Chris Evans', 'Chris Evans', 'Scarlett Johansson', 'Scarlett Johansson'], 'Genre': ['Sci-Fi', 'Sci-Fi', 'Comedy', 'Sci-Fi', 'Adventure', 'Fantasy', 'Thriller', 'Sci-Fi', 'Adventure', 'Drama', 'Fantasy', 'Adventure', 'Adventure', 'Drama', 'Children']} {'Name': ['Inception', 'In time', 'The Intouchables', 'Source Code', 'Avatar', 'Pinochhio', 'Megan', 'Everything everywhere all at once ', 'Jumanji 2', 'The Whale', 'Harry Potter', 'Captain America', 'The Avengers', 'Under the Skin', 'Sing 2'], 'Rating': [8.8, 6.7, 8.5, 7.5, 7.8, 5.5, 6.4, 7.9, 7.4, 7.8, 7.6, 7.8, 8, 6.3, 7.4], 'Duration': [148, 109, 112, 93, 213, 124, 102, 139, 123, 117, 152, 147, 143, 108, 110], 'Actor': ['Leonardo DiCaprio', 'Justin Timberlake', 'Omar Sy', 'Jake Gyllenhaal', 'Zoe Saldana', 'Disney', 'Jenna Davis', 'Michelle Yeoh', 'Dwayne Johnson', 'Darren Aronofsky', 'Daniel Radcliffe', 'Chris Evans', 'Chris Evans', 'Scarlett Johansson', 'Scarlett Johansson'], 'Genre': ['Sci-Fi', 'Sci-Fi', 'Comedy', 'Sci-Fi', 'Adventure', 'Fantasy', 'Thriller', 'Sci-Fi', 'Adventure', 'Drama', 'Fantasy', 'Adventure', 'Adventure', 'Drama', 'Children']} {'Name': ['Inception', 'In time', 'The Intouchables', 'Source Code', 'Avatar', 'Pinochhio', 'Megan', 'Everything everywhere all at once ', 'Jumanji 2', 'The Whale', 'Harry Potter', 'Captain America', 'The Avengers', 'Under the Skin', 'Sing 2'], 'Rating': [8.8, 6.7, 8.5, 7.5, 7.8, 5.5, 6.4, 7.9, 7.4, 7.8, 7.6, 7.8, 8, 6.3, 7.4], 'Duration': [148, 109, 112, 93, 213, 124, 102, 139, 123, 117, 152, 147, 143, 108, 110], 'Actor': ['Leonardo DiCaprio', 'Justin Timberlake', 'Omar Sy', 'Jake Gyllenhaal', 'Zoe Saldana', 'Disney', 'Jenna Davis', 'Michelle Yeoh', 'Dwayne Johnson', 'Darren Aronofsky', 'Daniel Radcliffe', 'Chris Evans', 'Chris Evans', 'Scarlett Johansson', 'Scarlett Johansson'], 'Genre': ['Sci-Fi', 'Sci-Fi', 'Comedy', 'Sci-Fi', 'Adventure', 'Fantasy', 'Thriller', 'Sci-Fi', 'Adventure', 'Drama', 'Fantasy', 'Adventure', 'Adventure', 'Drama', 'Children']} {'Name': ['Inception', 'In time', 'The Intouchables', 'Source Code', 'Avatar', 'Pinochhio', 'Megan', 'Everything everywhere all at once ', 'Jumanji 2', 'The Whale', 'Harry Potter', 'Captain America', 'The Avengers', 'Under the Skin', 'Sing 2'], 'Rating': [8.8, 6.7, 8.5, 7.5, 7.8, 5.5, 6.4, 7.9, 7.4, 7.8, 7.6, 7.8, 8, 6.3, 7.4], 'Duration': [148, 109, 112, 93, 213, 124, 102, 139, 123, 117, 152, 147, 143, 108, 110], 'Actor': ['Leonardo DiCaprio', 'Justin Timberlake', 'Omar Sy', 'Jake Gyllenhaal', 'Zoe Saldana', 'Disney', 'Jenna Davis', 'Michelle Yeoh', 'Dwayne Johnson', 'Darren Aronofsky', 'Daniel Radcliffe', 'Chris Evans', 'Chris Evans', 'Scarlett Johansson', 'Scarlett Johansson'], 'Genre': ['Sci-Fi', 'Sci-Fi', 'Comedy', 'Sci-Fi', 'Adventure', 'Fantasy', 'Thriller', 'Sci-Fi', 'Adventure', 'Drama', 'Fantasy', 'Adventure', 'Adventure', 'Drama', 'Children']} {'Name': ['Inception', 'In time', 'The Intouchables', 'Source Code', 'Avatar', 'Pinochhio', 'Megan', 'Everything everywhere all at once ', 'Jumanji 2', 'The Whale', 'Harry Potter', 'Captain America', 'The Avengers', 'Under the Skin', 'Sing 2'], 'Rating': [8.8, 6.7, 8.5, 7.5, 7.8, 5.5, 6.4, 7.9, 7.4, 7.8, 7.6, 7.8, 8, 6.3, 7.4], 'Duration': [148, 109, 112, 93, 213, 124, 102, 139, 123, 117, 152, 147, 143, 108, 110], 'Actor': ['Leonardo DiCaprio', 'Justin Timberlake', 'Omar Sy', 'Jake Gyllenhaal', 'Zoe Saldana', 'Disney', 'Jenna Davis', 'Michelle Yeoh', 'Dwayne Johnson', 'Darren Aronofsky', 'Daniel Radcliffe', 'Chris Evans', 'Chris Evans', 'Scarlett Johansson', 'Scarlett Johansson'], 'Genre': ['Sci-Fi', 'Sci-Fi', 'Comedy', 'Sci-Fi', 'Adventure', 'Fantasy', 'Thriller', 'Sci-Fi', 'Adventure', 'Drama', 'Fantasy', 'Adventure', 'Adventure', 'Drama', 'Children']} {'Name': ['Inception', 'In time', 'The Intouchables', 'Source Code', 'Avatar', 'Pinochhio', 'Megan', 'Everything everywhere all at once ', 'Jumanji 2', 'The Whale', 'Harry Potter', 'Captain America', 'The Avengers', 'Under the Skin', 'Sing 2'], 'Rating': [8.8, 6.7, 8.5, 7.5, 7.8, 5.5, 6.4, 7.9, 7.4, 7.8, 7.6, 7.8, 8, 6.3, 7.4], 'Duration': [148, 109, 112, 93, 213, 124, 102, 139, 123, 117, 152, 147, 143, 108, 110], 'Actor': ['Leonardo DiCaprio', 'Justin Timberlake', 'Omar Sy', 'Jake Gyllenhaal', 'Zoe Saldana', 'Disney', 'Jenna Davis', 'Michelle Yeoh', 'Dwayne Johnson', 'Darren Aronofsky', 'Daniel Radcliffe', 'Chris Evans', 'Chris Evans', 'Scarlett Johansson', 'Scarlett Johansson'], 'Genre': ['Sci-Fi', 'Sci-Fi', 'Comedy', 'Sci-Fi', 'Adventure', 'Fantasy', 'Thriller', 'Sci-Fi', 'Adventure', 'Drama', 'Fantasy', 'Adventure', 'Adventure', 'Drama', 'Children']} {'Name': ['Inception', 'In time', 'The Intouchables', 'Source Code', 'Avatar', 'Pinochhio', 'Megan', 'Everything everywhere all at once ', 'Jumanji 2', 'The Whale', 'Harry Potter', 'Captain America', 'The Avengers', 'Under the Skin', 'Sing 2'], 'Rating': [8.8, 6.7, 8.5, 7.5, 7.8, 5.5, 6.4, 7.9, 7.4, 7.8, 7.6, 7.8, 8, 6.3, 7.4], 'Duration': [148, 109, 112, 93, 213, 124, 102, 139, 123, 117, 152, 147, 143, 108, 110], 'Actor': ['Leonardo DiCaprio', 'Justin Timberlake', 'Omar Sy', 'Jake Gyllenhaal', 'Zoe Saldana', 'Disney', 'Jenna Davis', 'Michelle Yeoh', 'Dwayne Johnson', 'Darren Aronofsky', 'Daniel Radcliffe', 'Chris Evans', 'Chris Evans', 'Scarlett Johansson', 'Scarlett Johansson'], 'Genre': ['Sci-Fi', 'Sci-Fi', 'Comedy', 'Sci-Fi', 'Adventure', 'Fantasy', 'Thriller', 'Sci-Fi', 'Adventure', 'Drama', 'Fantasy', 'Adventure', 'Adventure', 'Drama', 'Children']} {'Name': ['Inception', 'In time', 'The Intouchables', 'Source Code', 'Avatar', 'Pinochhio', 'Megan', 'Everything everywhere all at once ', 'Jumanji 2', 'The Whale', 'Harry Potter', 'Captain America', 'The Avengers', 'Under the Skin', 'Sing 2'], 'Rating': [8.8, 6.7, 8.5, 7.5, 7.8, 5.5, 6.4, 7.9, 7.4, 7.8, 7.6, 7.8, 8, 6.3, 7.4], 'Duration': [148, 109, 112, 93, 213, 124, 102, 139, 123, 117, 152, 147, 143, 108, 110], 'Actor': ['Leonardo DiCaprio', 'Justin Timberlake', 'Omar Sy', 'Jake Gyllenhaal', 'Zoe Saldana', 'Disney', 'Jenna Davis', 'Michelle Yeoh', 'Dwayne Johnson', 'Darren Aronofsky', 'Daniel Radcliffe', 'Chris Evans', 'Chris Evans', 'Scarlett Johansson', 'Scarlett Johansson'], 'Genre': ['Sci-Fi', 'Sci-Fi', 'Comedy', 'Sci-Fi', 'Adventure', 'Fantasy', 'Thriller', 'Sci-Fi', 'Adventure', 'Drama', 'Fantasy', 'Adventure', 'Adventure', 'Drama', 'Children']} {'Name': ['Inception', 'In time', 'The Intouchables', 'Source Code', 'Avatar', 'Pinochhio', 'Megan', 'Everything everywhere all at once ', 'Jumanji 2', 'The Whale', 'Harry Potter', 'Captain America', 'The Avengers', 'Under the Skin', 'Sing 2'], 'Rating': [8.8, 6.7, 8.5, 7.5, 7.8, 5.5, 6.4, 7.9, 7.4, 7.8, 7.6, 7.8, 8, 6.3, 7.4], 'Duration': [148, 109, 112, 93, 213, 124, 102, 139, 123, 117, 152, 147, 143, 108, 110], 'Actor': ['Leonardo DiCaprio', 'Justin Timberlake', 'Omar Sy', 'Jake Gyllenhaal', 'Zoe Saldana', 'Disney', 'Jenna Davis', 'Michelle Yeoh', 'Dwayne Johnson', 'Darren Aronofsky', 'Daniel Radcliffe', 'Chris Evans', 'Chris Evans', 'Scarlett Johansson', 'Scarlett Johansson'], 'Genre': ['Sci-Fi', 'Sci-Fi', 'Comedy', 'Sci-Fi', 'Adventure', 'Fantasy', 'Thriller', 'Sci-Fi', 'Adventure', 'Drama', 'Fantasy', 'Adventure', 'Adventure', 'Drama', 'Children']} {'Name': ['Inception', 'In time', 'The Intouchables', 'Source Code', 'Avatar', 'Pinochhio', 'Megan', 'Everything everywhere all at once ', 'Jumanji 2', 'The Whale', 'Harry Potter', 'Captain America', 'The Avengers', 'Under the Skin', 'Sing 2'], 'Rating': [8.8, 6.7, 8.5, 7.5, 7.8, 5.5, 6.4, 7.9, 7.4, 7.8, 7.6, 7.8, 8, 6.3, 7.4], 'Duration': [148, 109, 112, 93, 213, 124, 102, 139, 123, 117, 152, 147, 143, 108, 110], 'Actor': ['Leonardo DiCaprio', 'Justin Timberlake', 'Omar Sy', 'Jake Gyllenhaal', 'Zoe Saldana', 'Disney', 'Jenna Davis', 'Michelle Yeoh', 'Dwayne Johnson', 'Darren Aronofsky', 'Daniel Radcliffe', 'Chris Evans', 'Chris Evans', 'Scarlett Johansson', 'Scarlett Johansson'], 'Genre': ['Sci-Fi', 'Sci-Fi', 'Comedy', 'Sci-Fi', 'Adventure', 'Fantasy', 'Thriller', 'Sci-Fi', 'Adventure', 'Drama', 'Fantasy', 'Adventure', 'Adventure', 'Drama', 'Children']} {'Name': ['Inception', 'In time', 'The Intouchables', 'Source Code', 'Avatar', 'Pinochhio', 'Megan', 'Everything everywhere all at once ', 'Jumanji 2', 'The Whale', 'Harry Potter', 'Captain America', 'The Avengers', 'Under the Skin', 'Sing 2'], 'Rating': [8.8, 6.7, 8.5, 7.5, 7.8, 5.5, 6.4, 7.9, 7.4, 7.8, 7.6, 7.8, 8, 6.3, 7.4], 'Duration': [148, 109, 112, 93, 213, 124, 102, 139, 123, 117, 152, 147, 143, 108, 110], 'Actor': ['Leonardo DiCaprio', 'Justin Timberlake', 'Omar Sy', 'Jake Gyllenhaal', 'Zoe Saldana', 'Disney', 'Jenna Davis', 'Michelle Yeoh', 'Dwayne Johnson', 'Darren Aronofsky', 'Daniel Radcliffe', 'Chris Evans', 'Chris Evans', 'Scarlett Johansson', 'Scarlett Johansson'], 'Genre': ['Sci-Fi', 'Sci-Fi', 'Comedy', 'Sci-Fi', 'Adventure', 'Fantasy', 'Thriller', 'Sci-Fi', 'Adventure', 'Drama', 'Fantasy', 'Adventure', 'Adventure', 'Drama', 'Children']} {'Name': ['Inception', 'In time', 'The Intouchables', 'Source Code', 'Avatar', 'Pinochhio', 'Megan', 'Everything everywhere all at once ', 'Jumanji 2', 'The Whale', 'Harry Potter', 'Captain America', 'The Avengers', 'Under the Skin', 'Sing 2'], 'Rating': [8.8, 6.7, 8.5, 7.5, 7.8, 5.5, 6.4, 7.9, 7.4, 7.8, 7.6, 7.8, 8, 6.3, 7.4], 'Duration': [148, 109, 112, 93, 213, 124, 102, 139, 123, 117, 152, 147, 143, 108, 110], 'Actor': ['Leonardo DiCaprio', 'Justin Timberlake', 'Omar Sy', 'Jake Gyllenhaal', 'Zoe Saldana', 'Disney', 'Jenna Davis', 'Michelle Yeoh', 'Dwayne Johnson', 'Darren Aronofsky', 'Daniel Radcliffe', 'Chris Evans', 'Chris Evans', 'Scarlett Johansson', 'Scarlett Johansson'], 'Genre': ['Sci-Fi', 'Sci-Fi', 'Comedy', 'Sci-Fi', 'Adventure', 'Fantasy', 'Thriller', 'Sci-Fi', 'Adventure', 'Drama', 'Fantasy', 'Adventure', 'Adventure', 'Drama', 'Children']}\"\n"
     ]
    }
   ],
   "source": [
    "url_endpoint = \"update_file\"\n",
    "file_name = \"test1.txt\"\n",
    "url = f\"http://localhost:{url_port}/{url_endpoint}\"\n",
    "payload = {\"file_name\": file_name, \"message\": films, \"mode\": \"w\"}\n",
    "post_response = requests.post(url=url, json=payload)\n",
    "response_json = post_response.json()\n",
    "print(response_json.get(\"Mensagem\"))\n",
    "\n",
    "if hf.check_file_type(file_name) == \"csv\":\n",
    "    update_result = json.loads(response_json.get(\"Data\"))\n",
    "    col = update_result.get(\"columns\")\n",
    "    data_result = update_result.get(\"data\")\n",
    "\n",
    "elif hf.check_file_type(file_name) == \"txt\":\n",
    "    update_str = json.dumps(response_json.get(\"Data\")[0], indent=2)\n",
    "    \n",
    "    print((update_str))\n",
    "    #col = update_result.get(\"columns\")\n",
    "    #data_result = update_result.get(\"data\")\n",
    "\n",
    "#filter_df = pd.DataFrame(data_result, columns=col)\n",
    "#filter_df\n"
   ]
  },
  {
   "cell_type": "code",
   "execution_count": null,
   "metadata": {},
   "outputs": [],
   "source": [
    "data_file = pd.read_csv(\"files/data1.csv\")\n",
    "data_file.head()"
   ]
  },
  {
   "attachments": {},
   "cell_type": "markdown",
   "metadata": {},
   "source": [
    "### 3.1 Adicionar um novo filme ao arquivo csv"
   ]
  },
  {
   "cell_type": "code",
   "execution_count": null,
   "metadata": {},
   "outputs": [],
   "source": [
    "new_films = {\n",
    "    \"Name\": [\"The Matrix\", \"The Matrix Reloaded\", \"The Matrix Revolutions\", \"The Ring\", \"The Ring 2\"], \n",
    "    \"Rating\": [8.7, 7.2, 6.7, 7.1, 6.2], \n",
    "    \"Duration\":[136, 138, 129, 115, 101], \n",
    "    \"Actor\": [\"Keanu Reeves\", \"Keanu Reeves\", \"Keanu Reeves\", \"Naomi Watts\", \"Naomi Watts\"], \n",
    "    \"Genre\": [\"Action\", \"Action\", \"Action\", \"Horror\", \"Horror\"]\n",
    "    }"
   ]
  },
  {
   "cell_type": "code",
   "execution_count": null,
   "metadata": {},
   "outputs": [],
   "source": [
    "url = \"http://127.0.0.1:8888/update_file\"\n",
    "payload = {\"file_name\": \"data1.csv\", \"message\": new_films, \"mode\": \"a\"}\n",
    "post_response = requests.post(url=url, json=payload)\n",
    "response_str = json.dumps(post_response.json(), indent=2)\n",
    "print(response_str)"
   ]
  },
  {
   "cell_type": "code",
   "execution_count": null,
   "metadata": {},
   "outputs": [],
   "source": [
    "data_file = pd.read_csv(\"files/data1.csv\")\n",
    "data_file"
   ]
  },
  {
   "attachments": {},
   "cell_type": "markdown",
   "metadata": {},
   "source": [
    "## 4. Filtrar valores menores que um valor X \n",
    "\n",
    "- enviar nome da coluna numérica que será realizada a filtragem;\n",
    "- enviar valor X;"
   ]
  },
  {
   "cell_type": "code",
   "execution_count": null,
   "metadata": {},
   "outputs": [],
   "source": [
    "filter_1 = {\n",
    "    \"column\": \"Duration\",\n",
    "    \"value\" : 100\n",
    "}\n",
    "\n",
    "filter_2 = {\n",
    "    \"column\": \"Rating\",\n",
    "    \"value\" : 7.0\n",
    "}"
   ]
  },
  {
   "cell_type": "code",
   "execution_count": null,
   "metadata": {},
   "outputs": [],
   "source": [
    "url = \"http://127.0.0.1:8888/filter_data\"\n",
    "payload = {\"file_name\": \"data1.csv\", \"filter\": filter_1}\n",
    "post_response = requests.post(url=url, json=payload)\n",
    "filter_result = post_response.json()\n",
    "filter_columns = filter_result[\"columns\"]\n",
    "filter_data = filter_result[\"data\"]\n",
    "filter_df = pd.DataFrame(filter_data, columns=filter_columns)\n",
    "filter_df"
   ]
  },
  {
   "cell_type": "code",
   "execution_count": null,
   "metadata": {},
   "outputs": [],
   "source": [
    "url = \"http://127.0.0.1:8888/filter_data\"\n",
    "payload = {\"file_name\": \"data1.csv\", \"filter\": filter_2}\n",
    "post_response = requests.post(url=url, json=payload)\n",
    "filter_result = post_response.json()\n",
    "filter_columns = filter_result[\"columns\"]\n",
    "filter_data = filter_result[\"data\"]\n",
    "filter_df = pd.DataFrame(filter_data, columns=filter_columns)\n",
    "filter_df"
   ]
  },
  {
   "attachments": {},
   "cell_type": "markdown",
   "metadata": {},
   "source": [
    "## 5. Requisição filtrar um arquivo csv por rango de valores\n",
    "\n",
    "enviar el intervalo de valores que serão filtrados;\n",
    "\n",
    "- valor minimo: int;\n",
    "- valor maximo: int;"
   ]
  },
  {
   "cell_type": "code",
   "execution_count": null,
   "metadata": {},
   "outputs": [],
   "source": [
    "range_index = {\n",
    "    \"value1\": 5,\n",
    "    \"value2\" : 10\n",
    "}"
   ]
  },
  {
   "cell_type": "code",
   "execution_count": null,
   "metadata": {},
   "outputs": [],
   "source": [
    "url = \"http://127.0.0.1:8888/filter_range\"\n",
    "payload = {\"file_name\": \"data1.csv\", \"filter\": range_index}\n",
    "post_response = requests.post(url=url, json=payload)\n",
    "filter_result = post_response.json()\n",
    "filter_columns = filter_result[\"columns\"]\n",
    "filter_data = filter_result[\"data\"]\n",
    "filter_df = pd.DataFrame(filter_data, columns=filter_columns)\n",
    "filter_df"
   ]
  }
 ],
 "metadata": {
  "kernelspec": {
   "display_name": "uldev",
   "language": "python",
   "name": "python3"
  },
  "language_info": {
   "codemirror_mode": {
    "name": "ipython",
    "version": 3
   },
   "file_extension": ".py",
   "mimetype": "text/x-python",
   "name": "python",
   "nbconvert_exporter": "python",
   "pygments_lexer": "ipython3",
   "version": "3.10.9"
  },
  "orig_nbformat": 4
 },
 "nbformat": 4,
 "nbformat_minor": 2
}
